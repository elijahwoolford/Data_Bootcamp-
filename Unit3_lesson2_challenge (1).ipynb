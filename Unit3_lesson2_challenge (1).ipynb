{
 "cells": [
  {
   "cell_type": "code",
   "execution_count": 29,
   "metadata": {},
   "outputs": [],
   "source": [
    "import numpy as np\n",
    "import pandas as pd\n",
    "import statistics \n",
    "\n",
    "df = pd.DataFrame()\n",
    "df[\"names\"] = [\"Greg\", \"Marcia\", \"Peter\", \"Jan\", \"Bobby\", \"Cindy\", \"Oliver\"]\n",
    "df[\"age\"] = [14, 12, 11, 10, 8, 6, 8]\n",
    "x = np.mean(df[\"age\"])\n",
    "y = np.median(df[\"age\"])\n",
    "z = statistics.mode(df[\"age\"])\n",
    "v = df[\"age\"].var()\n",
    "n = np.std(df[\"age\"], ddof=1)"
   ]
  },
  {
   "cell_type": "code",
   "execution_count": null,
   "metadata": {},
   "outputs": [],
   "source": [
    "df2 = pd.DataFrame()\n",
    "df2[\"names\"] = [\"Greg\", \"Marcia\", \"Peter\", \"Jan\", \"Bobby\", \"Cindy\", \"Oliver\"]\n",
    "df2[\"age\"] = [14, 12, 11, 10, 8, 7, 8]\n",
    "x = np.mean(df2[\"age\"])\n",
    "y = np.median(df2[\"age\"])\n",
    "z = statistics.mode(df2[\"age\"])\n",
    "v = df2[\"age\"].var()\n",
    "n = np.std(df2[\"age\"], ddof=1)"
   ]
  },
  {
   "cell_type": "code",
   "execution_count": 36,
   "metadata": {},
   "outputs": [],
   "source": [
    "df3 = pd.DataFrame()\n",
    "df3[\"names\"] = [\"Greg\", \"Marcia\", \"Peter\", \"Jan\", \"Bobby\", \"Cindy\", \"Jessica\"]\n",
    "df3[\"age\"] = [14, 12, 11, 10, 8, 7, 1]\n",
    "x = np.mean(df3[\"age\"])\n",
    "y = np.median(df3[\"age\"])\n",
    "v = df3[\"age\"].var()\n",
    "n = np.std(df3[\"age\"], ddof=1)"
   ]
  },
  {
   "cell_type": "markdown",
   "metadata": {},
   "source": [
    "1.\n",
    "The mean of the ages is 9.86\n",
    "The median of the ages is 10\n",
    "The mode of the ages is 8\n",
    "The variance of the ages is 7.48\n",
    "The standard deviation of the ages is 2.73\n",
    "\n",
    "2.\n",
    "The mean accurately decribes the center of the data. The standard deviation gives a good variance measure of how far away the rest of the data is from the average.\n",
    "\n",
    "3.\n",
    "The median and mode stay exactly the same after Cindy's birthday. The mean jumps up to 10, while the variance and std lower slightly to 6.3 and 2.5 respectivly. \n",
    "\n",
    "4.\n",
    "The addition of Jessica in place of cousin oliver causes the measures of central tedency to decrease while creating no instance of a mode. This increases varience due to Jessica's age being so far from the others.\n",
    "\n",
    "5. \n",
    "I would take the averages of the percentages: (20 + 23 + 17 + 5)/4 = about 16.3% of adults were brady bunch fans. \n"
   ]
  }
 ],
 "metadata": {
  "kernelspec": {
   "display_name": "Python 3",
   "language": "python",
   "name": "python3"
  },
  "language_info": {
   "codemirror_mode": {
    "name": "ipython",
    "version": 3
   },
   "file_extension": ".py",
   "mimetype": "text/x-python",
   "name": "python",
   "nbconvert_exporter": "python",
   "pygments_lexer": "ipython3",
   "version": "3.5.1"
  }
 },
 "nbformat": 4,
 "nbformat_minor": 2
}
