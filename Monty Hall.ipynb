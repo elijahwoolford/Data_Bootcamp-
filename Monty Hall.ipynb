{
 "cells": [
  {
   "cell_type": "markdown",
   "metadata": {},
   "source": [
    "Bayes rule can apply here by trying to calculate the probabilty of picking the door with the car given the probability after the host picked a door without the car behind it. The main issue is does it make sence to switch doors after the host reveals the door with nothing behind it. I believe that switching doors does increase your chances of getting the car due to the increased probabilty after the door with nothing was revealed. "
   ]
  }
 ],
 "metadata": {
  "kernelspec": {
   "display_name": "Python 3",
   "language": "python",
   "name": "python3"
  },
  "language_info": {
   "codemirror_mode": {
    "name": "ipython",
    "version": 3
   },
   "file_extension": ".py",
   "mimetype": "text/x-python",
   "name": "python",
   "nbconvert_exporter": "python",
   "pygments_lexer": "ipython3",
   "version": "3.5.1"
  }
 },
 "nbformat": 4,
 "nbformat_minor": 2
}
