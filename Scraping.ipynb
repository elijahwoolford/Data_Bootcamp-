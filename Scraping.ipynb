{
 "cells": [
  {
   "cell_type": "code",
   "execution_count": 1,
   "metadata": {},
   "outputs": [],
   "source": [
    "from bs4 import BeautifulSoup\n",
    "import urllib.request\n",
    "import pandas as pd\n",
    "import numpy as np\n",
    "import re\n",
    "from time import sleep"
   ]
  },
  {
   "cell_type": "code",
   "execution_count": 10,
   "metadata": {},
   "outputs": [],
   "source": [
    "def scrapeSongLinks(url):\n",
    "    page = urllib.request.urlopen(url)\n",
    "    soup = BeautifulSoup(page, \"html.parser\")\n",
    "    links = soup.find_all('a', href=True)\n",
    "    return links"
   ]
  },
  {
   "cell_type": "code",
   "execution_count": 11,
   "metadata": {},
   "outputs": [],
   "source": [
    "def getSongLyrics():\n",
    "    base_url = \"https://www.azlyrics.com\"\n",
    "    artist_urls =[\"https://www.azlyrics.com/k/knowles.html\",\n",
    "                  \"https://www.azlyrics.com/t/timberlake.html\",\n",
    "                  \"https://www.azlyrics.com/r/rihanna.html\",\n",
    "                  \"https://www.azlyrics.com/l/ladygaga.html\",\n",
    "                  \"https://www.azlyrics.com/w/west.html\",\n",
    "                  \"https://www.azlyrics.com/k/katyperry.html\",\n",
    "                  \"https://www.azlyrics.com/d/drake.html\",\n",
    "                  \"https://www.azlyrics.com/t/taylorswift.html\",\n",
    "                  \"https://www.azlyrics.com/b/brunomars.html\",\n",
    "                  \"https://www.azlyrics.com/j/jackson.html\"\n",
    "                 ]\n",
    "    lyrics = []\n",
    "    for artist_url in artist_urls:\n",
    "        links = scrapeSongLinks(artist_url)\n",
    "        artist_links = []\n",
    "        artist_lyrics = []\n",
    "        for link in links:\n",
    "            if \"/lyrics/\" in str(link):\n",
    "                link = str(link).strip('<a href=\"..')\n",
    "                x = link.split('\"')\n",
    "                link = x[0]\n",
    "                artist_links.append(link)\n",
    "        for i in range(10):\n",
    "            song = base_url + artist_links[i]\n",
    "            songpage = urllib.request.urlopen(song)\n",
    "            songsoup = BeautifulSoup(songpage, \"html.parser\")\n",
    "            for row in songsoup.find_all(\"div\", attrs={'class': None, \"id\": None}):\n",
    "                artist_lyrics.append(row.text)\n",
    "        lyrics.append(artist_lyrics)\n",
    "        time.sleep(30)\n",
    "    return lyrics"
   ]
  },
  {
   "cell_type": "code",
   "execution_count": null,
   "metadata": {},
   "outputs": [],
   "source": []
  }
 ],
 "metadata": {
  "kernelspec": {
   "display_name": "Python 3",
   "language": "python",
   "name": "python3"
  },
  "language_info": {
   "codemirror_mode": {
    "name": "ipython",
    "version": 3
   },
   "file_extension": ".py",
   "mimetype": "text/x-python",
   "name": "python",
   "nbconvert_exporter": "python",
   "pygments_lexer": "ipython3",
   "version": "3.5.1"
  }
 },
 "nbformat": 4,
 "nbformat_minor": 2
}
