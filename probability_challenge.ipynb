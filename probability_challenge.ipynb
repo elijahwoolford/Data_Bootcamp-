{
 "cells": [
  {
   "cell_type": "markdown",
   "metadata": {},
   "source": [
    "1) Probabilty of getting: HTTH, HHHH, TTHH = (1/2) * (1/2) * (1/2) * (1/2) = 1/16\n",
    "\n",
    "2) Probabilty of not choosing a man would be 24/45 = 8/15\n",
    "\n",
    "3) Probabilty of plane crashing is 10% * 0.005% = 0.0005%\n",
    "\n",
    "4) Those who spend longer on the website are more likely to fill out the survey. "
   ]
  }
 ],
 "metadata": {
  "kernelspec": {
   "display_name": "Python 3",
   "language": "python",
   "name": "python3"
  },
  "language_info": {
   "codemirror_mode": {
    "name": "ipython",
    "version": 3
   },
   "file_extension": ".py",
   "mimetype": "text/x-python",
   "name": "python",
   "nbconvert_exporter": "python",
   "pygments_lexer": "ipython3",
   "version": "3.5.1"
  }
 },
 "nbformat": 4,
 "nbformat_minor": 2
}
