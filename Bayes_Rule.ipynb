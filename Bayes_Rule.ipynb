{
 "cells": [
  {
   "cell_type": "markdown",
   "metadata": {},
   "source": [
    "1. (.005*.98) + (.1*.995) = .104 that it will be positive\n",
    "\n",
    "2. .98 that they will correctly diagnose a sufferer \n",
    "\n",
    "3. .90 that they will correctly diagnose a non-sufferer \n",
    "\n",
    "4. 1-(.98*.005 + .9*.995) = .0996 that they will misclassify the person "
   ]
  }
 ],
 "metadata": {
  "kernelspec": {
   "display_name": "Python 3",
   "language": "python",
   "name": "python3"
  },
  "language_info": {
   "codemirror_mode": {
    "name": "ipython",
    "version": 3
   },
   "file_extension": ".py",
   "mimetype": "text/x-python",
   "name": "python",
   "nbconvert_exporter": "python",
   "pygments_lexer": "ipython3",
   "version": "3.5.1"
  }
 },
 "nbformat": 4,
 "nbformat_minor": 2
}
